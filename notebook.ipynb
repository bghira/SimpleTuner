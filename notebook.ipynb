{
 "cells": [
  {
   "cell_type": "code",
   "execution_count": 1,
   "metadata": {},
   "outputs": [
    {
     "name": "stdout",
     "output_type": "stream",
     "text": [
      "Obtaining file:///Users/bghira/src/SimpleTuner\n",
      "  Installing build dependencies ... \u001b[?25ldone\n",
      "\u001b[?25h  Checking if build backend supports build_editable ... \u001b[?25ldone\n",
      "\u001b[?25h  Getting requirements to build editable ... \u001b[?25ldone\n",
      "\u001b[?25h  Preparing editable metadata (pyproject.toml) ... \u001b[?25ldone\n",
      "\u001b[?25hRequirement already satisfied: diffusers>=0.35.1 in ./.venv/lib/python3.12/site-packages (from simpletuner==2.2.1) (0.35.1)\n",
      "Requirement already satisfied: transformers>=4.55.0 in ./.venv/lib/python3.12/site-packages (from simpletuner==2.2.1) (4.56.2)\n",
      "Requirement already satisfied: datasets>=3.0.1 in ./.venv/lib/python3.12/site-packages (from simpletuner==2.2.1) (4.1.1)\n",
      "Requirement already satisfied: wandb>=0.21.0 in ./.venv/lib/python3.12/site-packages (from simpletuner==2.2.1) (0.22.0)\n",
      "Requirement already satisfied: requests>=2.32.4 in ./.venv/lib/python3.12/site-packages (from simpletuner==2.2.1) (2.32.5)\n",
      "Requirement already satisfied: pillow>=11.3.0 in ./.venv/lib/python3.12/site-packages (from simpletuner==2.2.1) (11.3.0)\n",
      "Requirement already satisfied: trainingsample>=0.2.1 in ./.venv/lib/python3.12/site-packages (from simpletuner==2.2.1) (0.2.1)\n",
      "Requirement already satisfied: accelerate>=1.5.2 in ./.venv/lib/python3.12/site-packages (from simpletuner==2.2.1) (1.10.1)\n",
      "Requirement already satisfied: safetensors>=0.5.3 in ./.venv/lib/python3.12/site-packages (from simpletuner==2.2.1) (0.6.2)\n",
      "Requirement already satisfied: compel>=2.1.1 in ./.venv/lib/python3.12/site-packages (from simpletuner==2.2.1) (2.1.1)\n",
      "Requirement already satisfied: clip-interrogator>=0.6.0 in ./.venv/lib/python3.12/site-packages (from simpletuner==2.2.1) (0.6.0)\n",
      "Requirement already satisfied: open-clip-torch>=2.26.1 in ./.venv/lib/python3.12/site-packages (from simpletuner==2.2.1) (3.1.0)\n",
      "Requirement already satisfied: iterutils>=0.1.6 in ./.venv/lib/python3.12/site-packages (from simpletuner==2.2.1) (0.1.6)\n",
      "Requirement already satisfied: scipy>=1.11.1 in ./.venv/lib/python3.12/site-packages (from simpletuner==2.2.1) (1.16.2)\n",
      "Requirement already satisfied: boto3>=1.35.83 in ./.venv/lib/python3.12/site-packages (from simpletuner==2.2.1) (1.40.34)\n",
      "Requirement already satisfied: pandas>=2.2.3 in ./.venv/lib/python3.12/site-packages (from simpletuner==2.2.1) (2.3.2)\n",
      "Requirement already satisfied: botocore>=1.35.83 in ./.venv/lib/python3.12/site-packages (from simpletuner==2.2.1) (1.40.34)\n",
      "Requirement already satisfied: urllib3<1.27 in ./.venv/lib/python3.12/site-packages (from simpletuner==2.2.1) (1.26.20)\n",
      "Requirement already satisfied: torchsde>=0.2.6 in ./.venv/lib/python3.12/site-packages (from simpletuner==2.2.1) (0.2.6)\n",
      "Requirement already satisfied: torchmetrics>=1.1.1 in ./.venv/lib/python3.12/site-packages (from simpletuner==2.2.1) (1.8.2)\n",
      "Requirement already satisfied: colorama>=0.4.6 in ./.venv/lib/python3.12/site-packages (from simpletuner==2.2.1) (0.4.6)\n",
      "Requirement already satisfied: numpy>=2.2.0 in ./.venv/lib/python3.12/site-packages (from simpletuner==2.2.1) (2.3.3)\n",
      "Requirement already satisfied: peft>=0.17.0 in ./.venv/lib/python3.12/site-packages (from simpletuner==2.2.1) (0.17.1)\n",
      "Requirement already satisfied: tensorboard>=2.18.0 in ./.venv/lib/python3.12/site-packages (from simpletuner==2.2.1) (2.20.0)\n",
      "Requirement already satisfied: sentencepiece>=0.2.0 in ./.venv/lib/python3.12/site-packages (from simpletuner==2.2.1) (0.2.1)\n",
      "Requirement already satisfied: optimum-quanto>=0.2.7 in ./.venv/lib/python3.12/site-packages (from simpletuner==2.2.1) (0.2.7)\n",
      "Requirement already satisfied: lycoris-lora>=3.2.0.post2 in ./.venv/lib/python3.12/site-packages (from simpletuner==2.2.1) (3.2.0.post2)\n",
      "Requirement already satisfied: torch-optimi>=0.2.1 in ./.venv/lib/python3.12/site-packages (from simpletuner==2.2.1) (0.3.2)\n",
      "Requirement already satisfied: toml>=0.10.2 in ./.venv/lib/python3.12/site-packages (from simpletuner==2.2.1) (0.10.2)\n",
      "Requirement already satisfied: fastapi>=0.115.0 in ./.venv/lib/python3.12/site-packages (from fastapi[standard]>=0.115.0->simpletuner==2.2.1) (0.116.2)\n",
      "Requirement already satisfied: atomicwrites>=1.4.1 in ./.venv/lib/python3.12/site-packages (from simpletuner==2.2.1) (1.4.1)\n",
      "Requirement already satisfied: beautifulsoup4>=4.12.3 in ./.venv/lib/python3.12/site-packages (from simpletuner==2.2.1) (4.13.5)\n",
      "Requirement already satisfied: prodigy-plus-schedule-free>=1.9.2 in ./.venv/lib/python3.12/site-packages (from simpletuner==2.2.1) (2.0.0)\n",
      "Requirement already satisfied: tokenizers>=0.21.0 in ./.venv/lib/python3.12/site-packages (from simpletuner==2.2.1) (0.22.1)\n",
      "Requirement already satisfied: huggingface-hub>=0.34.3 in ./.venv/lib/python3.12/site-packages (from simpletuner==2.2.1) (0.35.0)\n",
      "Requirement already satisfied: imageio-ffmpeg>=0.6.0 in ./.venv/lib/python3.12/site-packages (from simpletuner==2.2.1) (0.6.0)\n",
      "Requirement already satisfied: imageio>=2.37.0 in ./.venv/lib/python3.12/site-packages (from imageio[pyav]>=2.37.0->simpletuner==2.2.1) (2.37.0)\n",
      "Requirement already satisfied: hf-xet>=1.1.5 in ./.venv/lib/python3.12/site-packages (from simpletuner==2.2.1) (1.1.10)\n",
      "Requirement already satisfied: peft-singlora>=0.2.0 in ./.venv/lib/python3.12/site-packages (from simpletuner==2.2.1) (0.2.0)\n",
      "Requirement already satisfied: torch>=2.7.1 in ./.venv/lib/python3.12/site-packages (from simpletuner==2.2.1) (2.8.0)\n",
      "Requirement already satisfied: torchvision>=0.22.1 in ./.venv/lib/python3.12/site-packages (from simpletuner==2.2.1) (0.23.0)\n",
      "Requirement already satisfied: torchaudio>=2.4.1 in ./.venv/lib/python3.12/site-packages (from simpletuner==2.2.1) (2.8.0)\n",
      "Requirement already satisfied: torchao>=0.11.0 in ./.venv/lib/python3.12/site-packages (from simpletuner==2.2.1) (0.13.0)\n",
      "Requirement already satisfied: packaging>=20.0 in ./.venv/lib/python3.12/site-packages (from accelerate>=1.5.2->simpletuner==2.2.1) (25.0)\n",
      "Requirement already satisfied: psutil in ./.venv/lib/python3.12/site-packages (from accelerate>=1.5.2->simpletuner==2.2.1) (7.1.0)\n",
      "Requirement already satisfied: pyyaml in ./.venv/lib/python3.12/site-packages (from accelerate>=1.5.2->simpletuner==2.2.1) (6.0.2)\n",
      "Requirement already satisfied: soupsieve>1.2 in ./.venv/lib/python3.12/site-packages (from beautifulsoup4>=4.12.3->simpletuner==2.2.1) (2.8)\n",
      "Requirement already satisfied: typing-extensions>=4.0.0 in ./.venv/lib/python3.12/site-packages (from beautifulsoup4>=4.12.3->simpletuner==2.2.1) (4.15.0)\n",
      "Requirement already satisfied: jmespath<2.0.0,>=0.7.1 in ./.venv/lib/python3.12/site-packages (from boto3>=1.35.83->simpletuner==2.2.1) (1.0.1)\n",
      "Requirement already satisfied: s3transfer<0.15.0,>=0.14.0 in ./.venv/lib/python3.12/site-packages (from boto3>=1.35.83->simpletuner==2.2.1) (0.14.0)\n",
      "Requirement already satisfied: python-dateutil<3.0.0,>=2.1 in ./.venv/lib/python3.12/site-packages (from botocore>=1.35.83->simpletuner==2.2.1) (2.9.0.post0)\n",
      "Requirement already satisfied: six>=1.5 in ./.venv/lib/python3.12/site-packages (from python-dateutil<3.0.0,>=2.1->botocore>=1.35.83->simpletuner==2.2.1) (1.17.0)\n",
      "Requirement already satisfied: tqdm in ./.venv/lib/python3.12/site-packages (from clip-interrogator>=0.6.0->simpletuner==2.2.1) (4.67.1)\n",
      "Requirement already satisfied: pyparsing~=3.0 in ./.venv/lib/python3.12/site-packages (from compel>=2.1.1->simpletuner==2.2.1) (3.2.4)\n",
      "Requirement already satisfied: filelock in ./.venv/lib/python3.12/site-packages (from transformers>=4.55.0->simpletuner==2.2.1) (3.19.1)\n",
      "Requirement already satisfied: regex!=2019.12.17 in ./.venv/lib/python3.12/site-packages (from transformers>=4.55.0->simpletuner==2.2.1) (2025.9.18)\n",
      "Requirement already satisfied: fsspec>=2023.5.0 in ./.venv/lib/python3.12/site-packages (from huggingface-hub>=0.34.3->simpletuner==2.2.1) (2025.9.0)\n",
      "Requirement already satisfied: pyarrow>=21.0.0 in ./.venv/lib/python3.12/site-packages (from datasets>=3.0.1->simpletuner==2.2.1) (21.0.0)\n",
      "Requirement already satisfied: dill<0.4.1,>=0.3.0 in ./.venv/lib/python3.12/site-packages (from datasets>=3.0.1->simpletuner==2.2.1) (0.4.0)\n",
      "Requirement already satisfied: xxhash in ./.venv/lib/python3.12/site-packages (from datasets>=3.0.1->simpletuner==2.2.1) (3.5.0)\n",
      "Requirement already satisfied: multiprocess<0.70.17 in ./.venv/lib/python3.12/site-packages (from datasets>=3.0.1->simpletuner==2.2.1) (0.70.16)\n",
      "Requirement already satisfied: aiohttp!=4.0.0a0,!=4.0.0a1 in ./.venv/lib/python3.12/site-packages (from fsspec[http]<=2025.9.0,>=2023.1.0->datasets>=3.0.1->simpletuner==2.2.1) (3.12.15)\n",
      "Requirement already satisfied: aiohappyeyeballs>=2.5.0 in ./.venv/lib/python3.12/site-packages (from aiohttp!=4.0.0a0,!=4.0.0a1->fsspec[http]<=2025.9.0,>=2023.1.0->datasets>=3.0.1->simpletuner==2.2.1) (2.6.1)\n",
      "Requirement already satisfied: aiosignal>=1.4.0 in ./.venv/lib/python3.12/site-packages (from aiohttp!=4.0.0a0,!=4.0.0a1->fsspec[http]<=2025.9.0,>=2023.1.0->datasets>=3.0.1->simpletuner==2.2.1) (1.4.0)\n",
      "Requirement already satisfied: attrs>=17.3.0 in ./.venv/lib/python3.12/site-packages (from aiohttp!=4.0.0a0,!=4.0.0a1->fsspec[http]<=2025.9.0,>=2023.1.0->datasets>=3.0.1->simpletuner==2.2.1) (25.3.0)\n",
      "Requirement already satisfied: frozenlist>=1.1.1 in ./.venv/lib/python3.12/site-packages (from aiohttp!=4.0.0a0,!=4.0.0a1->fsspec[http]<=2025.9.0,>=2023.1.0->datasets>=3.0.1->simpletuner==2.2.1) (1.7.0)\n",
      "Requirement already satisfied: multidict<7.0,>=4.5 in ./.venv/lib/python3.12/site-packages (from aiohttp!=4.0.0a0,!=4.0.0a1->fsspec[http]<=2025.9.0,>=2023.1.0->datasets>=3.0.1->simpletuner==2.2.1) (6.6.4)\n",
      "Requirement already satisfied: propcache>=0.2.0 in ./.venv/lib/python3.12/site-packages (from aiohttp!=4.0.0a0,!=4.0.0a1->fsspec[http]<=2025.9.0,>=2023.1.0->datasets>=3.0.1->simpletuner==2.2.1) (0.3.2)\n",
      "Requirement already satisfied: yarl<2.0,>=1.17.0 in ./.venv/lib/python3.12/site-packages (from aiohttp!=4.0.0a0,!=4.0.0a1->fsspec[http]<=2025.9.0,>=2023.1.0->datasets>=3.0.1->simpletuner==2.2.1) (1.20.1)\n",
      "Requirement already satisfied: idna>=2.0 in ./.venv/lib/python3.12/site-packages (from yarl<2.0,>=1.17.0->aiohttp!=4.0.0a0,!=4.0.0a1->fsspec[http]<=2025.9.0,>=2023.1.0->datasets>=3.0.1->simpletuner==2.2.1) (3.10)\n",
      "Requirement already satisfied: importlib_metadata in ./.venv/lib/python3.12/site-packages (from diffusers>=0.35.1->simpletuner==2.2.1) (8.7.0)\n",
      "Requirement already satisfied: starlette<0.49.0,>=0.40.0 in ./.venv/lib/python3.12/site-packages (from fastapi>=0.115.0->fastapi[standard]>=0.115.0->simpletuner==2.2.1) (0.48.0)\n",
      "Requirement already satisfied: pydantic!=1.8,!=1.8.1,!=2.0.0,!=2.0.1,!=2.1.0,<3.0.0,>=1.7.4 in ./.venv/lib/python3.12/site-packages (from fastapi>=0.115.0->fastapi[standard]>=0.115.0->simpletuner==2.2.1) (2.11.9)\n",
      "Requirement already satisfied: annotated-types>=0.6.0 in ./.venv/lib/python3.12/site-packages (from pydantic!=1.8,!=1.8.1,!=2.0.0,!=2.0.1,!=2.1.0,<3.0.0,>=1.7.4->fastapi>=0.115.0->fastapi[standard]>=0.115.0->simpletuner==2.2.1) (0.7.0)\n",
      "Requirement already satisfied: pydantic-core==2.33.2 in ./.venv/lib/python3.12/site-packages (from pydantic!=1.8,!=1.8.1,!=2.0.0,!=2.0.1,!=2.1.0,<3.0.0,>=1.7.4->fastapi>=0.115.0->fastapi[standard]>=0.115.0->simpletuner==2.2.1) (2.33.2)\n",
      "Requirement already satisfied: typing-inspection>=0.4.0 in ./.venv/lib/python3.12/site-packages (from pydantic!=1.8,!=1.8.1,!=2.0.0,!=2.0.1,!=2.1.0,<3.0.0,>=1.7.4->fastapi>=0.115.0->fastapi[standard]>=0.115.0->simpletuner==2.2.1) (0.4.1)\n",
      "Requirement already satisfied: anyio<5,>=3.6.2 in ./.venv/lib/python3.12/site-packages (from starlette<0.49.0,>=0.40.0->fastapi>=0.115.0->fastapi[standard]>=0.115.0->simpletuner==2.2.1) (4.10.0)\n",
      "Requirement already satisfied: sniffio>=1.1 in ./.venv/lib/python3.12/site-packages (from anyio<5,>=3.6.2->starlette<0.49.0,>=0.40.0->fastapi>=0.115.0->fastapi[standard]>=0.115.0->simpletuner==2.2.1) (1.3.1)\n",
      "Requirement already satisfied: fastapi-cli>=0.0.8 in ./.venv/lib/python3.12/site-packages (from fastapi-cli[standard]>=0.0.8; extra == \"standard\"->fastapi[standard]>=0.115.0->simpletuner==2.2.1) (0.0.12)\n",
      "Requirement already satisfied: httpx>=0.23.0 in ./.venv/lib/python3.12/site-packages (from fastapi[standard]>=0.115.0->simpletuner==2.2.1) (0.28.1)\n",
      "Requirement already satisfied: jinja2>=3.1.5 in ./.venv/lib/python3.12/site-packages (from fastapi[standard]>=0.115.0->simpletuner==2.2.1) (3.1.6)\n",
      "Requirement already satisfied: python-multipart>=0.0.18 in ./.venv/lib/python3.12/site-packages (from fastapi[standard]>=0.115.0->simpletuner==2.2.1) (0.0.20)\n",
      "Requirement already satisfied: email-validator>=2.0.0 in ./.venv/lib/python3.12/site-packages (from fastapi[standard]>=0.115.0->simpletuner==2.2.1) (2.3.0)\n",
      "Requirement already satisfied: uvicorn>=0.12.0 in ./.venv/lib/python3.12/site-packages (from uvicorn[standard]>=0.12.0; extra == \"standard\"->fastapi[standard]>=0.115.0->simpletuner==2.2.1) (0.35.0)\n",
      "Requirement already satisfied: dnspython>=2.0.0 in ./.venv/lib/python3.12/site-packages (from email-validator>=2.0.0->fastapi[standard]>=0.115.0->simpletuner==2.2.1) (2.8.0)\n",
      "Requirement already satisfied: typer>=0.15.1 in ./.venv/lib/python3.12/site-packages (from fastapi-cli>=0.0.8->fastapi-cli[standard]>=0.0.8; extra == \"standard\"->fastapi[standard]>=0.115.0->simpletuner==2.2.1) (0.17.5)\n",
      "Requirement already satisfied: rich-toolkit>=0.14.8 in ./.venv/lib/python3.12/site-packages (from fastapi-cli>=0.0.8->fastapi-cli[standard]>=0.0.8; extra == \"standard\"->fastapi[standard]>=0.115.0->simpletuner==2.2.1) (0.15.1)\n",
      "Requirement already satisfied: fastapi-cloud-cli>=0.1.1 in ./.venv/lib/python3.12/site-packages (from fastapi-cli[standard]>=0.0.8; extra == \"standard\"->fastapi[standard]>=0.115.0->simpletuner==2.2.1) (0.2.0)\n",
      "Requirement already satisfied: rignore>=0.5.1 in ./.venv/lib/python3.12/site-packages (from fastapi-cloud-cli>=0.1.1->fastapi-cli[standard]>=0.0.8; extra == \"standard\"->fastapi[standard]>=0.115.0->simpletuner==2.2.1) (0.6.4)\n",
      "Requirement already satisfied: sentry-sdk>=2.20.0 in ./.venv/lib/python3.12/site-packages (from fastapi-cloud-cli>=0.1.1->fastapi-cli[standard]>=0.0.8; extra == \"standard\"->fastapi[standard]>=0.115.0->simpletuner==2.2.1) (2.38.0)\n",
      "Requirement already satisfied: certifi in ./.venv/lib/python3.12/site-packages (from httpx>=0.23.0->fastapi[standard]>=0.115.0->simpletuner==2.2.1) (2025.8.3)\n",
      "Requirement already satisfied: httpcore==1.* in ./.venv/lib/python3.12/site-packages (from httpx>=0.23.0->fastapi[standard]>=0.115.0->simpletuner==2.2.1) (1.0.9)\n",
      "Requirement already satisfied: h11>=0.16 in ./.venv/lib/python3.12/site-packages (from httpcore==1.*->httpx>=0.23.0->fastapi[standard]>=0.115.0->simpletuner==2.2.1) (0.16.0)\n",
      "Requirement already satisfied: av in ./.venv/lib/python3.12/site-packages (from imageio[pyav]>=2.37.0->simpletuner==2.2.1) (15.1.0)\n",
      "Requirement already satisfied: MarkupSafe>=2.0 in ./.venv/lib/python3.12/site-packages (from jinja2>=3.1.5->fastapi[standard]>=0.115.0->simpletuner==2.2.1) (3.0.2)\n",
      "Requirement already satisfied: einops in ./.venv/lib/python3.12/site-packages (from lycoris-lora>=3.2.0.post2->simpletuner==2.2.1) (0.8.1)\n",
      "Requirement already satisfied: ftfy in ./.venv/lib/python3.12/site-packages (from open-clip-torch>=2.26.1->simpletuner==2.2.1) (6.3.1)\n",
      "Requirement already satisfied: timm>=1.0.17 in ./.venv/lib/python3.12/site-packages (from open-clip-torch>=2.26.1->simpletuner==2.2.1) (1.0.19)\n",
      "Requirement already satisfied: ninja in ./.venv/lib/python3.12/site-packages (from optimum-quanto>=0.2.7->simpletuner==2.2.1) (1.13.0)\n",
      "Requirement already satisfied: pytz>=2020.1 in ./.venv/lib/python3.12/site-packages (from pandas>=2.2.3->simpletuner==2.2.1) (2025.2)\n",
      "Requirement already satisfied: tzdata>=2022.7 in ./.venv/lib/python3.12/site-packages (from pandas>=2.2.3->simpletuner==2.2.1) (2025.2)\n",
      "Requirement already satisfied: charset_normalizer<4,>=2 in ./.venv/lib/python3.12/site-packages (from requests>=2.32.4->simpletuner==2.2.1) (3.4.3)\n",
      "Requirement already satisfied: click>=8.1.7 in ./.venv/lib/python3.12/site-packages (from rich-toolkit>=0.14.8->fastapi-cli>=0.0.8->fastapi-cli[standard]>=0.0.8; extra == \"standard\"->fastapi[standard]>=0.115.0->simpletuner==2.2.1) (8.2.1)\n",
      "Requirement already satisfied: rich>=13.7.1 in ./.venv/lib/python3.12/site-packages (from rich-toolkit>=0.14.8->fastapi-cli>=0.0.8->fastapi-cli[standard]>=0.0.8; extra == \"standard\"->fastapi[standard]>=0.115.0->simpletuner==2.2.1) (14.1.0)\n",
      "Requirement already satisfied: markdown-it-py>=2.2.0 in ./.venv/lib/python3.12/site-packages (from rich>=13.7.1->rich-toolkit>=0.14.8->fastapi-cli>=0.0.8->fastapi-cli[standard]>=0.0.8; extra == \"standard\"->fastapi[standard]>=0.115.0->simpletuner==2.2.1) (4.0.0)\n",
      "Requirement already satisfied: pygments<3.0.0,>=2.13.0 in ./.venv/lib/python3.12/site-packages (from rich>=13.7.1->rich-toolkit>=0.14.8->fastapi-cli>=0.0.8->fastapi-cli[standard]>=0.0.8; extra == \"standard\"->fastapi[standard]>=0.115.0->simpletuner==2.2.1) (2.19.2)\n",
      "Requirement already satisfied: mdurl~=0.1 in ./.venv/lib/python3.12/site-packages (from markdown-it-py>=2.2.0->rich>=13.7.1->rich-toolkit>=0.14.8->fastapi-cli>=0.0.8->fastapi-cli[standard]>=0.0.8; extra == \"standard\"->fastapi[standard]>=0.115.0->simpletuner==2.2.1) (0.1.2)\n",
      "Requirement already satisfied: absl-py>=0.4 in ./.venv/lib/python3.12/site-packages (from tensorboard>=2.18.0->simpletuner==2.2.1) (2.3.1)\n",
      "Requirement already satisfied: grpcio>=1.48.2 in ./.venv/lib/python3.12/site-packages (from tensorboard>=2.18.0->simpletuner==2.2.1) (1.75.0)\n",
      "Requirement already satisfied: markdown>=2.6.8 in ./.venv/lib/python3.12/site-packages (from tensorboard>=2.18.0->simpletuner==2.2.1) (3.9)\n",
      "Requirement already satisfied: protobuf!=4.24.0,>=3.19.6 in ./.venv/lib/python3.12/site-packages (from tensorboard>=2.18.0->simpletuner==2.2.1) (6.32.1)\n",
      "Requirement already satisfied: setuptools>=41.0.0 in ./.venv/lib/python3.12/site-packages (from tensorboard>=2.18.0->simpletuner==2.2.1) (80.9.0)\n",
      "Requirement already satisfied: tensorboard-data-server<0.8.0,>=0.7.0 in ./.venv/lib/python3.12/site-packages (from tensorboard>=2.18.0->simpletuner==2.2.1) (0.7.2)\n",
      "Requirement already satisfied: werkzeug>=1.0.1 in ./.venv/lib/python3.12/site-packages (from tensorboard>=2.18.0->simpletuner==2.2.1) (3.1.3)\n",
      "Requirement already satisfied: sympy>=1.13.3 in ./.venv/lib/python3.12/site-packages (from torch>=2.7.1->simpletuner==2.2.1) (1.14.0)\n",
      "Requirement already satisfied: networkx in ./.venv/lib/python3.12/site-packages (from torch>=2.7.1->simpletuner==2.2.1) (3.5)\n",
      "Requirement already satisfied: mpmath<1.4,>=1.1.0 in ./.venv/lib/python3.12/site-packages (from sympy>=1.13.3->torch>=2.7.1->simpletuner==2.2.1) (1.3.0)\n",
      "Requirement already satisfied: lightning-utilities>=0.8.0 in ./.venv/lib/python3.12/site-packages (from torchmetrics>=1.1.1->simpletuner==2.2.1) (0.15.2)\n",
      "Requirement already satisfied: trampoline>=0.1.2 in ./.venv/lib/python3.12/site-packages (from torchsde>=0.2.6->simpletuner==2.2.1) (0.1.2)\n",
      "Requirement already satisfied: shellingham>=1.3.0 in ./.venv/lib/python3.12/site-packages (from typer>=0.15.1->fastapi-cli>=0.0.8->fastapi-cli[standard]>=0.0.8; extra == \"standard\"->fastapi[standard]>=0.115.0->simpletuner==2.2.1) (1.5.4)\n",
      "Requirement already satisfied: httptools>=0.6.3 in ./.venv/lib/python3.12/site-packages (from uvicorn[standard]>=0.12.0; extra == \"standard\"->fastapi[standard]>=0.115.0->simpletuner==2.2.1) (0.6.4)\n",
      "Requirement already satisfied: python-dotenv>=0.13 in ./.venv/lib/python3.12/site-packages (from uvicorn[standard]>=0.12.0; extra == \"standard\"->fastapi[standard]>=0.115.0->simpletuner==2.2.1) (1.1.1)\n",
      "Requirement already satisfied: uvloop>=0.15.1 in ./.venv/lib/python3.12/site-packages (from uvicorn[standard]>=0.12.0; extra == \"standard\"->fastapi[standard]>=0.115.0->simpletuner==2.2.1) (0.21.0)\n",
      "Requirement already satisfied: watchfiles>=0.13 in ./.venv/lib/python3.12/site-packages (from uvicorn[standard]>=0.12.0; extra == \"standard\"->fastapi[standard]>=0.115.0->simpletuner==2.2.1) (1.1.0)\n",
      "Requirement already satisfied: websockets>=10.4 in ./.venv/lib/python3.12/site-packages (from uvicorn[standard]>=0.12.0; extra == \"standard\"->fastapi[standard]>=0.115.0->simpletuner==2.2.1) (15.0.1)\n",
      "Requirement already satisfied: gitpython!=3.1.29,>=1.0.0 in ./.venv/lib/python3.12/site-packages (from wandb>=0.21.0->simpletuner==2.2.1) (3.1.45)\n",
      "Requirement already satisfied: platformdirs in ./.venv/lib/python3.12/site-packages (from wandb>=0.21.0->simpletuner==2.2.1) (4.4.0)\n",
      "Requirement already satisfied: gitdb<5,>=4.0.1 in ./.venv/lib/python3.12/site-packages (from gitpython!=3.1.29,>=1.0.0->wandb>=0.21.0->simpletuner==2.2.1) (4.0.12)\n",
      "Requirement already satisfied: smmap<6,>=3.0.1 in ./.venv/lib/python3.12/site-packages (from gitdb<5,>=4.0.1->gitpython!=3.1.29,>=1.0.0->wandb>=0.21.0->simpletuner==2.2.1) (5.0.2)\n",
      "Requirement already satisfied: wcwidth in ./.venv/lib/python3.12/site-packages (from ftfy->open-clip-torch>=2.26.1->simpletuner==2.2.1) (0.2.13)\n",
      "Requirement already satisfied: zipp>=3.20 in ./.venv/lib/python3.12/site-packages (from importlib_metadata->diffusers>=0.35.1->simpletuner==2.2.1) (3.23.0)\n",
      "Building wheels for collected packages: simpletuner\n",
      "  Building editable for simpletuner (pyproject.toml) ... \u001b[?25ldone\n",
      "\u001b[?25h  Created wheel for simpletuner: filename=simpletuner-2.2.1-0.editable-py3-none-any.whl size=19725 sha256=4e67f9f70b3db251c7458e75ad5b8bbc08a6c1460436202790ec120a0bb2c499\n",
      "  Stored in directory: /private/var/folders/hy/wk6g21152zz34511l_1gh7cw0000gn/T/pip-ephem-wheel-cache-pl2v16h5/wheels/3a/a7/d1/2f58e41281f258fa24327019eaa09cea9e737e9a3bceb7f4f5\n",
      "Successfully built simpletuner\n",
      "Installing collected packages: simpletuner\n",
      "  Attempting uninstall: simpletuner\n",
      "    Found existing installation: simpletuner 2.2.1\n",
      "    Uninstalling simpletuner-2.2.1:\n",
      "      Successfully uninstalled simpletuner-2.2.1\n",
      "Successfully installed simpletuner-2.2.1\n",
      "\n",
      "\u001b[1m[\u001b[0m\u001b[34;49mnotice\u001b[0m\u001b[1;39;49m]\u001b[0m\u001b[39;49m A new release of pip is available: \u001b[0m\u001b[31;49m25.1.1\u001b[0m\u001b[39;49m -> \u001b[0m\u001b[32;49m25.2\u001b[0m\n",
      "\u001b[1m[\u001b[0m\u001b[34;49mnotice\u001b[0m\u001b[1;39;49m]\u001b[0m\u001b[39;49m To update, run: \u001b[0m\u001b[32;49mpip install --upgrade pip\u001b[0m\n",
      "Note: you may need to restart the kernel to use updated packages.\n"
     ]
    }
   ],
   "source": [
    "%pip install -e ."
   ]
  },
  {
   "cell_type": "code",
   "execution_count": 2,
   "metadata": {},
   "outputs": [],
   "source": [
    "# Update this for your data path.\n",
    "instance_data_dir = \"/Volumes/ml/datasets/test_datasets/single_image_dataset\"\n",
    "pretrained_model_name_or_path = \"black-forest-labs/FLUX.1-dev\"\n",
    "# Your public model name after it's pushed to the hub.\n",
    "hub_model_id = \"simpletuner-lora\"\n",
    "tracker_project_name = \"flux-training\"\n",
    "\n",
    "# Validation prompt\n",
    "validation_prompt = \"A photo-realistic image of a cat\"\n",
    "\n",
    "train_batch_size = 1\n",
    "learning_rate = 1e-4\n",
    "\n",
    "# choices: int8-quanto, fp8-quanto, no_change (mac and a100/h100 users get int4 and int2 as well)\n",
    "base_model_precision = \"no_change\""
   ]
  },
  {
   "cell_type": "code",
   "execution_count": 3,
   "metadata": {},
   "outputs": [],
   "source": [
    "lycoris_config = {\n",
    "    \"algo\": \"lokr\",\n",
    "    \"multiplier\": 1.0,\n",
    "    \"linear_dim\": 10000,\n",
    "    \"linear_alpha\": 1,\n",
    "    \"factor\": 12,\n",
    "    \"apply_preset\": {\n",
    "        \"target_module\": [\n",
    "            \"Attention\",\n",
    "            \"FeedForward\"\n",
    "        ],\n",
    "        \"module_algo_map\": {\n",
    "            \"Attention\": {\n",
    "                \"factor\": 12\n",
    "            },\n",
    "            \"FeedForward\": {\n",
    "                \"factor\": 6\n",
    "            }\n",
    "        }\n",
    "    }\n",
    "}\n",
    "# write to config/lycoris_config.json\n",
    "import json\n",
    "with open(\"config/lycoris_config.json\", \"w\") as f:\n",
    "    json.dump(lycoris_config, f)"
   ]
  },
  {
   "cell_type": "code",
   "execution_count": 4,
   "metadata": {},
   "outputs": [],
   "source": [
    "training_config = {\n",
    "    \"mixed_precision\":\"bf16\",\n",
    "    \"model_type\":\"lora\",\n",
    "    \"pretrained_model_name_or_path\":pretrained_model_name_or_path,\n",
    "    \"gradient_checkpointing\":True,\n",
    "    \"cache_dir\": \"cache\",\n",
    "    \"set_grads_to_none\":True,\n",
    "    \"gradient_accumulation_steps\":1,\n",
    "    \"resume_from_checkpoint\":\"latest\",\n",
    "    \"snr_gamma\":5,\n",
    "    \"num_train_epochs\":0,\n",
    "    \"max_train_steps\":10000,\n",
    "    \"metadata_update_interval\":65,\n",
    "    \"optimizer\":\"adamw_bf16\",\n",
    "    \"learning_rate\":learning_rate,\n",
    "    \"lr_scheduler\":\"polynomial\",\n",
    "    \"seed\":42,\n",
    "    \"lr_warmup_steps\":100,\n",
    "    \"output_dir\":\"output/models\",\n",
    "    \"non_ema_revision\": False,\n",
    "    \"aspect_bucket_rounding\":2,\n",
    "    \"inference_scheduler_timestep_spacing\":\"trailing\",\n",
    "    \"training_scheduler_timestep_spacing\":\"trailing\",\n",
    "    \"report_to\":\"wandb\",\n",
    "    \"lr_end\":1e-8,\n",
    "    \"compress_disk_cache\":True,\n",
    "    \"push_to_hub\":True,\n",
    "    \"hub_model_id\":hub_model_id,\n",
    "    \"push_checkpoints_to_hub\":True,\n",
    "    \"model_family\":\"flux\",\n",
    "    \"disable_benchmark\":False,\n",
    "    \"train_batch\":train_batch_size,\n",
    "    \"max_workers\":32,\n",
    "    \"read_batch_size\":25,\n",
    "    \"write_batch_size\":64,\n",
    "    \"caption_dropout_probability\":0.1,\n",
    "    \"torch_num_threads\":8,\n",
    "    \"image_processing_batch_size\":32,\n",
    "    \"vae_batch_size\":4,\n",
    "    \"validation_prompt\":validation_prompt,\n",
    "    \"num_validation_images\":1,\n",
    "    \"validation_num_inference_steps\":20,\n",
    "    \"validation_seed\":42,\n",
    "    \"minimum_image_size\":0,\n",
    "    \"resolution\":1024,\n",
    "    \"validation_resolution\":\"1024x1024\",\n",
    "    \"resolution_type\":\"pixel_area\",\n",
    "    \"lycoris_config\":\"config/lycoris_config.json\",\n",
    "    \"lora_type\":\"lycoris\",\n",
    "    \"base_model_precision\":base_model_precision,\n",
    "    \"checkpointing_steps\":500,\n",
    "    \"checkpoints_total_limit\":5,\n",
    "    \"validation_steps\":500,\n",
    "    \"tracker_run_name\":hub_model_id,\n",
    "    \"tracker_project_name\":tracker_project_name,\n",
    "    \"validation_guidance\":3.0,\n",
    "    \"validation_guidance_real\":1.0,\n",
    "    \"validation_guidance_rescale\":0.0,\n",
    "    \"validation_negative_prompt\":\"blurry, cropped, ugly\",\n",
    "}\n",
    "# write to config/config.json\n",
    "with open(\"config/config.json\", \"w\") as f:\n",
    "    json.dump(training_config, f, indent=4)"
   ]
  },
  {
   "cell_type": "code",
   "execution_count": 5,
   "metadata": {},
   "outputs": [],
   "source": [
    "dataloader_config = [\n",
    "    {\n",
    "        \"id\": \"my-dataset-512\",\n",
    "        \"type\": \"local\",\n",
    "        \"instance_data_dir\": instance_data_dir,\n",
    "        \"crop\": False,\n",
    "        \"crop_style\": \"random\",\n",
    "        \"minimum_image_size\": 128,\n",
    "        \"resolution\": 512,\n",
    "        \"resolution_type\": \"pixel_area\",\n",
    "        \"repeats\": \"4\",\n",
    "        \"metadata_backend\": \"discovery\",\n",
    "        \"caption_strategy\": \"filename\",\n",
    "        \"cache_dir_vae\": \"cache/vae-512\"\n",
    "    },\n",
    "    {\n",
    "        \"id\": \"my-dataset-1024\",\n",
    "        \"type\": \"local\",\n",
    "        \"instance_data_dir\": instance_data_dir,\n",
    "        \"crop\": False,\n",
    "        \"crop_style\": \"random\",\n",
    "        \"minimum_image_size\": 128,\n",
    "        \"resolution\": 1024,\n",
    "        \"resolution_type\": \"pixel_area\",\n",
    "        \"repeats\": \"4\",\n",
    "        \"metadata_backend\": \"discovery\",\n",
    "        \"caption_strategy\": \"filename\",\n",
    "        \"cache_dir_vae\": \"cache/vae-1024\"\n",
    "    },\n",
    "    {\n",
    "        \"id\": \"my-dataset-512-crop\",\n",
    "        \"type\": \"local\",\n",
    "        \"instance_data_dir\": instance_data_dir,\n",
    "        \"crop\": False,\n",
    "        \"crop_style\": \"random\",\n",
    "        \"minimum_image_size\": 128,\n",
    "        \"resolution\": 512,\n",
    "        \"resolution_type\": \"pixel_area\",\n",
    "        \"repeats\": \"4\",\n",
    "        \"metadata_backend\": \"discovery\",\n",
    "        \"caption_strategy\": \"filename\",\n",
    "        \"cache_dir_vae\": \"cache/vae-512-crop\"\n",
    "    },\n",
    "    {\n",
    "        \"id\": \"my-dataset-1024-crop\",\n",
    "        \"type\": \"local\",\n",
    "        \"instance_data_dir\": instance_data_dir,\n",
    "        \"crop\": False,\n",
    "        \"crop_style\": \"random\",\n",
    "        \"minimum_image_size\": 128,\n",
    "        \"resolution\": 1024,\n",
    "        \"resolution_type\": \"pixel_area\",\n",
    "        \"repeats\": \"4\",\n",
    "        \"metadata_backend\": \"discovery\",\n",
    "        \"caption_strategy\": \"filename\",\n",
    "        \"cache_dir_vae\": \"cache/vae-1024-crop\"\n",
    "    },\n",
    "    {\n",
    "        \"id\": \"text-embed-cache\",\n",
    "        \"dataset_type\": \"text_embeds\",\n",
    "        \"default\": True,\n",
    "        \"type\": \"local\",\n",
    "        \"cache_dir\": \"cache/text\"\n",
    "    }\n",
    "]\n",
    "# write to config/multidatabackend.json\n",
    "import json\n",
    "with open(\"config/multidatabackend.json\", \"w\") as f:\n",
    "    json.dump(dataloader_config, f)"
   ]
  },
  {
   "cell_type": "code",
   "execution_count": null,
   "metadata": {},
   "outputs": [],
   "source": [
    "import logging\n",
    "import logging.config\n",
    "from os import environ\n",
    "\n",
    "logging.getLogger(\"DeepSpeed\").setLevel(\"ERROR\")\n",
    "logging.getLogger(\"torch.distributed.elastic.multiprocessing.redirects\").setLevel(\"ERROR\")\n",
    "\n",
    "logging.config.dictConfig({\n",
    "    \"version\": 1,\n",
    "    \"disable_existing_loggers\": True,\n",
    "})\n",
    "\n",
    "environ[\"ACCELERATE_LOG_LEVEL\"] = \"WARNING\"\n",
    "\n",
    "from simpletuner.helpers import log_format\n",
    "from simpletuner.helpers.training.multi_process import _get_rank\n",
    "from simpletuner.helpers.training.state_tracker import StateTracker\n",
    "from simpletuner.helpers.training.trainer import Trainer\n",
    "\n",
    "logger = logging.getLogger(\"SimpleTuner\")\n",
    "logger.setLevel(environ.get(\"SIMPLETUNER_LOG_LEVEL\", \"INFO\") if _get_rank() == 0 else \"ERROR\")\n"
   ]
  },
  {
   "cell_type": "code",
   "execution_count": 8,
   "metadata": {},
   "outputs": [
    {
     "name": "stderr",
     "output_type": "stream",
     "text": [
      "[RANK 0] 2025-09-20 16:54:00,437 [WARNING] Skipping false argument: non_ema_revision\n",
      "[RANK 0] 2025-09-20 16:54:00,439 [WARNING] Skipping false argument: disable_benchmark\n"
     ]
    }
   ],
   "source": [
    "from simpletuner.helpers.configuration.json_file import normalize_args\n",
    "import os\n",
    "os.environ['CONFIG_BACKEND'] = 'cmd'\n",
    "os.environ['ENV'] = 'default'\n",
    "StateTracker.set_config_path('config/')\n",
    "loaded_config = normalize_args(training_config)"
   ]
  },
  {
   "cell_type": "code",
   "execution_count": null,
   "metadata": {},
   "outputs": [],
   "source": [
    "import multiprocessing\n",
    "\n",
    "try:\n",
    "    multiprocessing.set_start_method('fork')\n",
    "except Exception as e:\n",
    "    logger.error(\n",
    "        \"Failed to set the multiprocessing start method to 'fork'. Unexpected behaviour such as high memory overhead or poor performance may result.\"\n",
    "        f\"\\nError: {e}\"\n",
    "    )\n",
    "\n",
    "try:\n",
    "    trainer = Trainer(\n",
    "        loaded_config,\n",
    "        exit_on_error=True,\n",
    "    )\n",
    "except Exception as e:\n",
    "    import traceback\n",
    "    logger.error(f\"Failed to create Trainer: {e}, {traceback.format_exc()}\")\n",
    "    raise e\n"
   ]
  },
  {
   "cell_type": "code",
   "execution_count": null,
   "metadata": {},
   "outputs": [],
   "source": [
    "try:\n",
    "    trainer.configure_webhook()\n",
    "    trainer.init_noise_schedule()\n",
    "    trainer.init_seed()\n",
    "\n",
    "    trainer.init_huggingface_hub()\n",
    "except Exception as e:\n",
    "    logger.error(f\"Failed to configure Trainer: {e}\")\n",
    "    raise e"
   ]
  },
  {
   "cell_type": "code",
   "execution_count": null,
   "metadata": {},
   "outputs": [],
   "source": [
    "try:\n",
    "    trainer.init_preprocessing_models()\n",
    "    trainer.init_precision(preprocessing_models_only=True)\n",
    "except Exception as e:\n",
    "    logger.error(f\"Failed to initialize preprocessing models: {e}\")\n",
    "    raise e\n"
   ]
  },
  {
   "cell_type": "code",
   "execution_count": null,
   "metadata": {},
   "outputs": [],
   "source": [
    "try:\n",
    "    trainer.init_data_backend()\n",
    "except Exception as e:\n",
    "    logger.error(f\"Failed to initialize data backend: {e}\")\n",
    "    raise e"
   ]
  },
  {
   "cell_type": "code",
   "execution_count": null,
   "metadata": {},
   "outputs": [],
   "source": [
    "trainer.init_unload_text_encoder()"
   ]
  },
  {
   "cell_type": "code",
   "execution_count": null,
   "metadata": {},
   "outputs": [],
   "source": [
    "trainer.init_unload_vae()"
   ]
  },
  {
   "cell_type": "code",
   "execution_count": null,
   "metadata": {},
   "outputs": [],
   "source": [
    "trainer.init_load_base_model()"
   ]
  },
  {
   "cell_type": "code",
   "execution_count": null,
   "metadata": {},
   "outputs": [],
   "source": [
    "trainer.init_controlnet_model()\n"
   ]
  },
  {
   "cell_type": "code",
   "execution_count": null,
   "metadata": {},
   "outputs": [],
   "source": [
    "trainer.init_tread_model()\n"
   ]
  },
  {
   "cell_type": "code",
   "execution_count": null,
   "metadata": {},
   "outputs": [],
   "source": [
    "trainer.init_precision()\n"
   ]
  },
  {
   "cell_type": "code",
   "execution_count": null,
   "metadata": {},
   "outputs": [],
   "source": [
    "trainer.init_freeze_models()\n"
   ]
  },
  {
   "cell_type": "code",
   "execution_count": null,
   "metadata": {},
   "outputs": [],
   "source": [
    "trainer.init_trainable_peft_adapter()\n"
   ]
  },
  {
   "cell_type": "code",
   "execution_count": null,
   "metadata": {},
   "outputs": [],
   "source": [
    "trainer.init_ema_model()\n"
   ]
  },
  {
   "cell_type": "code",
   "execution_count": null,
   "metadata": {},
   "outputs": [],
   "source": [
    "trainer.init_precision(ema_only=True)\n"
   ]
  },
  {
   "cell_type": "code",
   "execution_count": null,
   "metadata": {},
   "outputs": [],
   "source": [
    "trainer.move_models(destination=\"accelerator\")\n"
   ]
  },
  {
   "cell_type": "code",
   "execution_count": null,
   "metadata": {},
   "outputs": [],
   "source": [
    "trainer.init_distillation()\n"
   ]
  },
  {
   "cell_type": "code",
   "execution_count": null,
   "metadata": {},
   "outputs": [],
   "source": [
    "trainer.init_validations()\n"
   ]
  },
  {
   "cell_type": "code",
   "execution_count": null,
   "metadata": {},
   "outputs": [],
   "source": [
    "trainer.enable_sageattention_inference()\n"
   ]
  },
  {
   "cell_type": "code",
   "execution_count": null,
   "metadata": {},
   "outputs": [],
   "source": [
    "trainer.init_benchmark_base_model()\n"
   ]
  },
  {
   "cell_type": "code",
   "execution_count": null,
   "metadata": {},
   "outputs": [],
   "source": [
    "trainer.disable_sageattention_inference()\n"
   ]
  },
  {
   "cell_type": "code",
   "execution_count": null,
   "metadata": {},
   "outputs": [],
   "source": [
    "trainer.resume_and_prepare()\n"
   ]
  },
  {
   "cell_type": "code",
   "execution_count": null,
   "metadata": {},
   "outputs": [],
   "source": [
    "trainer.init_trackers()\n"
   ]
  },
  {
   "cell_type": "code",
   "execution_count": null,
   "metadata": {},
   "outputs": [],
   "source": [
    "trainer.train()\n"
   ]
  }
 ],
 "metadata": {
  "kernelspec": {
   "display_name": ".venv",
   "language": "python",
   "name": "python3"
  },
  "language_info": {
   "codemirror_mode": {
    "name": "ipython",
    "version": 3
   },
   "file_extension": ".py",
   "mimetype": "text/x-python",
   "name": "python",
   "nbconvert_exporter": "python",
   "pygments_lexer": "ipython3",
   "version": "3.12.11"
  }
 },
 "nbformat": 4,
 "nbformat_minor": 2
}